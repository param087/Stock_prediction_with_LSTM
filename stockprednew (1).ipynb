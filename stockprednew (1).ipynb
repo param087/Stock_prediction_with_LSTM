{
 "cells": [
  {
   "cell_type": "markdown",
   "metadata": {},
   "source": [
    "# StockPrediction "
   ]
  },
  {
   "cell_type": "markdown",
   "metadata": {},
   "source": [
    "This is submission for weekly coding challenge buy siraj raval."
   ]
  },
  {
   "cell_type": "markdown",
   "metadata": {},
   "source": [
    " Here we have apple stock dataset from 2008-01-02 to 2016-09-12. In this note we are going to perform the stock price prediction  using LSTM cell with the help of keras machine learning framework. "
   ]
  },
  {
   "cell_type": "code",
   "execution_count": 1,
   "metadata": {
    "collapsed": false,
    "deletable": true,
    "editable": true
   },
   "outputs": [
    {
     "name": "stderr",
     "output_type": "stream",
     "text": [
      "Using TensorFlow backend.\n",
      "C:\\ProgramData\\Anaconda3\\envs\\tensorflow\\lib\\site-packages\\sklearn\\cross_validation.py:41: DeprecationWarning: This module was deprecated in version 0.18 in favor of the model_selection module into which all the refactored classes and functions are moved. Also note that the interface of the new CV iterators are different from that of this module. This module will be removed in 0.20.\n",
      "  \"This module will be removed in 0.20.\", DeprecationWarning)\n"
     ]
    }
   ],
   "source": [
    "#for matrix manipulation\n",
    "import numpy as np\n",
    "#for visualization the dataset\n",
    "import matplotlib.pyplot as plt\n",
    "#file manipulation\n",
    "import pandas as pd\n",
    "import math\n",
    "import time\n",
    "from datetime import datetime\n",
    "%matplotlib inline\n",
    "\n",
    "#our machine learning libraries\n",
    "from keras.models import Sequential\n",
    "from keras.layers import Dense\n",
    "from keras.layers import LSTM\n",
    "from keras.layers.core import Activation, Dense,Dropout\n",
    "\n",
    "from sklearn import cross_validation\n",
    "from sklearn.metrics import mean_squared_error\n",
    "from sklearn.preprocessing import MinMaxScaler"
   ]
  },
  {
   "cell_type": "code",
   "execution_count": 2,
   "metadata": {
    "collapsed": false,
    "deletable": true,
    "editable": true
   },
   "outputs": [
    {
     "name": "stdout",
     "output_type": "stream",
     "text": [
      "                 Time   First    Last\n",
      "0 2008-01-02 09:00:00  198.79  200.16\n",
      "1 2008-01-02 10:00:00  200.16  198.05\n",
      "2 2008-01-02 11:00:00  198.05  195.12\n",
      "3 2008-01-02 12:00:00  195.12  194.47\n",
      "4 2008-01-02 13:00:00  194.46  194.98\n",
      "17418\n"
     ]
    }
   ],
   "source": [
    "appl_stock = pd.read_csv('nasdaq/AAPL.csv', parse_dates=['Time'])\n",
    "appl_sent = pd.read_json('sentiment/appl_parse.json')\n",
    "                  \n",
    "dataframe = appl_stock\n",
    "print(dataframe.head())\n",
    "print(len(dataframe))"
   ]
  },
  {
   "cell_type": "code",
   "execution_count": 3,
   "metadata": {
    "collapsed": false,
    "deletable": true,
    "editable": true
   },
   "outputs": [
    {
     "name": "stdout",
     "output_type": "stream",
     "text": [
      "<class 'pandas._libs.tslib.Timestamp'>\n",
      "<class 'pandas._libs.tslib.Timestamp'>\n",
      "   bearish  bearish_percent  bullish  bullish_percent       date  none  total\n",
      "0        0              0.0        4            100.0 2011-01-03   105    109\n",
      "1        0              0.0        2            100.0 2011-01-04    59     61\n",
      "2        0              0.0        1            100.0 2011-01-05    58     59\n",
      "3        0              0.0        1            100.0 2011-01-06    91     92\n",
      "4        0              0.0        2            100.0 2011-01-07    92     94\n"
     ]
    }
   ],
   "source": [
    "print(type(appl_stock['Time'][0]))\n",
    "print(type(appl_sent['date'][0]))\n",
    "print(appl_sent.head())"
   ]
  },
  {
   "cell_type": "code",
   "execution_count": 4,
   "metadata": {
    "collapsed": false,
    "deletable": true,
    "editable": true
   },
   "outputs": [
    {
     "name": "stdout",
     "output_type": "stream",
     "text": [
      "0       2008-01-02\n",
      "1       2008-01-02\n",
      "2       2008-01-02\n",
      "3       2008-01-02\n",
      "4       2008-01-02\n",
      "5       2008-01-02\n",
      "6       2008-01-02\n",
      "7       2008-01-02\n",
      "8       2008-01-03\n",
      "9       2008-01-03\n",
      "10      2008-01-03\n",
      "11      2008-01-03\n",
      "12      2008-01-03\n",
      "13      2008-01-03\n",
      "14      2008-01-03\n",
      "15      2008-01-03\n",
      "16      2008-01-04\n",
      "17      2008-01-04\n",
      "18      2008-01-04\n",
      "19      2008-01-04\n",
      "20      2008-01-04\n",
      "21      2008-01-04\n",
      "22      2008-01-04\n",
      "23      2008-01-04\n",
      "24      2008-01-07\n",
      "25      2008-01-07\n",
      "26      2008-01-07\n",
      "27      2008-01-07\n",
      "28      2008-01-07\n",
      "29      2008-01-07\n",
      "           ...    \n",
      "17388   2016-09-07\n",
      "17389   2016-09-07\n",
      "17390   2016-09-07\n",
      "17391   2016-09-07\n",
      "17392   2016-09-07\n",
      "17393   2016-09-07\n",
      "17394   2016-09-08\n",
      "17395   2016-09-08\n",
      "17396   2016-09-08\n",
      "17397   2016-09-08\n",
      "17398   2016-09-08\n",
      "17399   2016-09-08\n",
      "17400   2016-09-08\n",
      "17401   2016-09-08\n",
      "17402   2016-09-09\n",
      "17403   2016-09-09\n",
      "17404   2016-09-09\n",
      "17405   2016-09-09\n",
      "17406   2016-09-09\n",
      "17407   2016-09-09\n",
      "17408   2016-09-09\n",
      "17409   2016-09-09\n",
      "17410   2016-09-12\n",
      "17411   2016-09-12\n",
      "17412   2016-09-12\n",
      "17413   2016-09-12\n",
      "17414   2016-09-12\n",
      "17415   2016-09-12\n",
      "17416   2016-09-12\n",
      "17417   2016-09-12\n",
      "Name: Time_nohour, Length: 17418, dtype: datetime64[ns]\n"
     ]
    }
   ],
   "source": [
    "appl_stock['Time_nohour'] = appl_stock['Time']\n",
    "appl_stock['Time_nohour'] = appl_stock['Time_nohour'].apply((lambda ts: pd.Timestamp(datetime( ts.year, ts.month, ts.day))))\n",
    "\n",
    "print(appl_stock['Time_nohour'])"
   ]
  },
  {
   "cell_type": "markdown",
   "metadata": {},
   "source": [
    "Bullish\n",
    "\n",
    "Investors who believe that a stock price will increase over time are said to be bullish. Investors who buy calls are bullish on the underlying stock. That is, they believe that the stock price will rise and have paid for the right to purchase the stock at a specific price known as the exercise price or strike price. An investor who has sold puts is also considered to be bullish on the stock. The seller of a put has an obligation to buy the stock and, therefore, believes that the stock price will rise.\n",
    "\n",
    "Bearish\n",
    "\n",
    "Investors who believe that a stock price will decline are said to be bearish. The seller of a call has an obligation to sell the stock to the purchaser at a specified price and believes that the stock price will fall and is therefore bearish. The buyer of a put wants the price to drop so that they may sell the stock at a higher price to the seller of the put contract. They are also considered to be bearish on the stock.\n",
    "\n",
    "\n",
    "so from the defination of the bullish we mainly deal with bullish for our prediction"
   ]
  },
  {
   "cell_type": "code",
   "execution_count": 5,
   "metadata": {
    "collapsed": false,
    "deletable": true,
    "editable": true
   },
   "outputs": [
    {
     "name": "stdout",
     "output_type": "stream",
     "text": [
      "                 Time   First    Last Time_nohour  bearish  bearish_percent  \\\n",
      "0 2011-01-03 09:00:00  324.82  327.47  2011-01-03        0              0.0   \n",
      "1 2011-01-03 10:00:00  327.50  329.91  2011-01-03        0              0.0   \n",
      "2 2011-01-03 11:00:00  329.94  329.71  2011-01-03        0              0.0   \n",
      "3 2011-01-03 12:00:00  329.72  329.56  2011-01-03        0              0.0   \n",
      "4 2011-01-03 13:00:00  329.62  329.95  2011-01-03        0              0.0   \n",
      "\n",
      "   bullish  bullish_percent       date  none  total  \n",
      "0        4            100.0 2011-01-03   105    109  \n",
      "1        4            100.0 2011-01-03   105    109  \n",
      "2        4            100.0 2011-01-03   105    109  \n",
      "3        4            100.0 2011-01-03   105    109  \n",
      "4        4            100.0 2011-01-03   105    109  \n"
     ]
    }
   ],
   "source": [
    "dataframe = appl_stock\n",
    "dataframe_merge = pd.merge(appl_stock, appl_sent, left_on = 'Time_nohour', right_on='date')\n",
    "print(dataframe_merge.head())"
   ]
  },
  {
   "cell_type": "code",
   "execution_count": 6,
   "metadata": {
    "collapsed": false,
    "deletable": true,
    "editable": true
   },
   "outputs": [
    {
     "name": "stdout",
     "output_type": "stream",
     "text": [
      "[ 199.475  199.105  196.585 ...,  105.205  105.455  105.445]\n",
      "[[ 199.475  199.105  196.585 ...,  105.205  105.455  105.445]]\n"
     ]
    }
   ],
   "source": [
    "dataset = (0.5 * (dataframe['First'] + dataframe['Last'])).values\n",
    "sent_dataset = dataframe_merge['bullish_percent'].values\n",
    "\n",
    "print(dataset)\n",
    "print(dataset.reshape(1,-1))"
   ]
  },
  {
   "cell_type": "markdown",
   "metadata": {},
   "source": [
    "\n",
    "Transforms features by scaling each feature to a given range.\n",
    "This estimator scales and translates each feature individually such that it is in the given range on the training set, i.e. between zero and one.\n",
    "\n",
    "The transformation is given by:\n",
    "X_std = (X - X.min(axis=0)) / (X.max(axis=0) - X.min(axis=0))\n",
    "X_scaled = X_std * (max - min) + min\n",
    "\n",
    "where min, max = feature_range.\n",
    "This transformation is often used as an alternative to zero mean, unit variance scaling."
   ]
  },
  {
   "cell_type": "code",
   "execution_count": 7,
   "metadata": {
    "collapsed": false,
    "deletable": true,
    "editable": true
   },
   "outputs": [
    {
     "name": "stdout",
     "output_type": "stream",
     "text": [
      "(17418, 1)\n",
      "(11063, 1)\n"
     ]
    }
   ],
   "source": [
    "\n",
    "scaler = MinMaxScaler(feature_range=(0,1))\n",
    "sent_scaler = MinMaxScaler(feature_range=(0,1))\n",
    "dataset = scaler.fit_transform(dataset.reshape(-1,1))\n",
    "sent_dataset = sent_scaler.fit_transform(sent_dataset.reshape(-1,1))\n",
    "print(dataset.shape)\n",
    "print(sent_dataset.shape)"
   ]
  },
  {
   "cell_type": "code",
   "execution_count": 8,
   "metadata": {
    "collapsed": false,
    "deletable": true,
    "editable": true,
    "scrolled": true
   },
   "outputs": [
    {
     "name": "stdout",
     "output_type": "stream",
     "text": [
      "(17408, 10, 1) (17408,)\n"
     ]
    }
   ],
   "source": [
    "def rnnDataPrep(data, n_prev):\n",
    "    X_data, y_data = [], []\n",
    "    #here we storing 1st n value for th n+1 predition\n",
    "    for i in range(n_prev, len(data)):\n",
    "        X_data.append( data[i - (n_prev) : i].tolist())\n",
    "    X_data = np.array(X_data)\n",
    "    y_data = data[n_prev:]\n",
    "    return np.reshape(X_data, (X_data.shape[0], X_data.shape[1], 1)), np.reshape(y_data, (len(y_data), ))\n",
    "  \n",
    "\n",
    "def rnnDataPrepSent(data, n_prev):\n",
    "    X_data, y_data = [],[]\n",
    "     #here we storing 1st n value for th n+1 predition\n",
    "    for i in range(n_prev, len(data)):\n",
    "        X_data.append(np.append( data[i - (n_prev) : i], sent_dataset[i -1]).tolist())\n",
    "        \n",
    "    X_data = np.array(X_data)\n",
    "    y_data = data[n_prev:]\n",
    "    \n",
    "    return np.reshape(X_data, (X_data.shape[0], X_data.shape[1], 1), np.reshape(y_data, len(y_data),))\n",
    "\n",
    "\n",
    "temp_x, temp_y = rnnDataPrep(dataset, 10)\n",
    "print(temp_x.shape, temp_y.shape)"
   ]
  },
  {
   "cell_type": "code",
   "execution_count": 9,
   "metadata": {
    "collapsed": false,
    "deletable": true,
    "editable": true
   },
   "outputs": [
    {
     "name": "stdout",
     "output_type": "stream",
     "text": [
      "17418\n",
      "(10420, 50, 1) (6948, 50, 1)\n",
      "(10420,) (6948,)\n"
     ]
    }
   ],
   "source": [
    "#spliting of data into training and testing dataset\n",
    "\n",
    "ttR = 0.6 #train test ratio\n",
    "\n",
    "lb = 50 # look_back\n",
    "X, y = rnnDataPrep(dataset, lb)\n",
    "n = int(ttR * len(X))\n",
    "\n",
    "X_train, y_train = X[:n], y[:n]\n",
    "X_test, y_test = X[n:], y[n:]\n",
    "\n",
    "print(len(dataset))\n",
    "print( X_train.shape, X_test.shape)\n",
    "print( y_train.shape, y_test.shape)"
   ]
  },
  {
   "cell_type": "markdown",
   "metadata": {},
   "source": [
    "Long Short Term Memory networks – usually just called “LSTMs” – are a special kind of RNN, capable of learning long-term dependencies. They were introduced by Hochreiter & Schmidhuber (1997), and were refined and popularized by many people in following work.1 They work tremendously well on a large variety of problems, and are now widely used.\n",
    "\n",
    "LSTMs are explicitly designed to avoid the long-term dependency problem. Remembering information for long periods of time is practically their default behavior, not something they struggle to learn!\n",
    "\n",
    "All recurrent neural networks have the form of a chain of repeating modules of neural network. In standard RNNs, this repeating module will have a very simple structure, such as a single tanh layer.\n",
    "\n",
    "\n",
    "The repeating module in a standard RNN contains a single layer.\n",
    "LSTMs also have this chain like structure, but the repeating module has a different structure. Instead of having a single neural network layer, there are four, interacting in a very special way.\n",
    "\n",
    "A LSTM neural network.\n",
    "The repeating module in an LSTM contains four interacting layers."
   ]
  },
  {
   "cell_type": "code",
   "execution_count": 10,
   "metadata": {
    "collapsed": false,
    "deletable": true,
    "editable": true
   },
   "outputs": [
    {
     "name": "stderr",
     "output_type": "stream",
     "text": [
      "C:\\ProgramData\\Anaconda3\\envs\\tensorflow\\lib\\site-packages\\ipykernel\\__main__.py:23: UserWarning: The `input_dim` and `input_length` arguments in recurrent layers are deprecated. Use `input_shape` instead.\n",
      "C:\\ProgramData\\Anaconda3\\envs\\tensorflow\\lib\\site-packages\\ipykernel\\__main__.py:23: UserWarning: Update your `LSTM` call to the Keras 2 API: `LSTM(units=4, input_shape=(None, 1))`\n",
      "C:\\ProgramData\\Anaconda3\\envs\\tensorflow\\lib\\site-packages\\ipykernel\\__main__.py:24: UserWarning: Update your `Dense` call to the Keras 2 API: `Dense(units=1)`\n",
      "C:\\ProgramData\\Anaconda3\\envs\\tensorflow\\lib\\site-packages\\keras\\models.py:844: UserWarning: The `nb_epoch` argument in `fit` has been renamed `epochs`.\n",
      "  warnings.warn('The `nb_epoch` argument in `fit` '\n"
     ]
    },
    {
     "name": "stdout",
     "output_type": "stream",
     "text": [
      "Compilation time :  0.031084775924682617\n",
      "Epoch 1/10\n",
      "329s - loss: 0.0038\n",
      "Epoch 2/10\n",
      "323s - loss: 6.8998e-05\n",
      "Epoch 3/10\n",
      "321s - loss: 5.4986e-05\n",
      "Epoch 4/10\n",
      "319s - loss: 4.6181e-05\n",
      "Epoch 5/10\n",
      "317s - loss: 3.9960e-05\n",
      "Epoch 6/10\n",
      "312s - loss: 3.5470e-05\n",
      "Epoch 7/10\n",
      "311s - loss: 3.1597e-05\n",
      "Epoch 8/10\n",
      "313s - loss: 2.9390e-05\n",
      "Epoch 9/10\n",
      "322s - loss: 2.6424e-05\n",
      "Epoch 10/10\n",
      "320s - loss: 2.4939e-05\n"
     ]
    },
    {
     "data": {
      "text/plain": [
       "<keras.callbacks.History at 0x27a1e08d2b0>"
      ]
     },
     "execution_count": 10,
     "metadata": {},
     "output_type": "execute_result"
    }
   ],
   "source": [
    "#create the LSTM model\n",
    "\n",
    "def build_model():\n",
    "    \n",
    "    model = Sequential()\n",
    "    layers = [1, 50, 100, 1]\n",
    "    \n",
    "    model.add(LSTM( input_dim = layers[0], output_dim = layers[1],return_sequences=True ))\n",
    "    model.add(Dropout(0.2))\n",
    "    model.add(LSTM( layer[2], return_sequences = False))\n",
    "    model.add(Dropout(0.2))\n",
    "    model.add(Dense( layer[3]))\n",
    "    model.add(Activarion='linear')\n",
    "    \n",
    "    start = time.time()\n",
    "    model.compile(loss = 'mse', optimizer='rmsprop')\n",
    "    print(\"Compilation time : \",time.time() - start)\n",
    "    return model\n",
    "\n",
    "\n",
    "def build_singlyr_model():\n",
    "    model = Sequential()\n",
    "    model.add(LSTM( input_dim=1, output_dim = 4))\n",
    "    model.add(Dense( output_dim=1))\n",
    "    start = time.time()\n",
    "    model.compile(loss='mse', optimizer='rmsprop')\n",
    "    print(\"Compilation time : \", time.time() - start)\n",
    "    return model\n",
    "\n",
    "model_unilayer = build_singlyr_model()\n",
    "model_unilayer.fit(X_train, y_train, nb_epoch=10, batch_size=1, verbose=2)"
   ]
  },
  {
   "cell_type": "code",
   "execution_count": 12,
   "metadata": {
    "collapsed": false,
    "deletable": true,
    "editable": true
   },
   "outputs": [
    {
     "name": "stdout",
     "output_type": "stream",
     "text": [
      "baseline test score = 99.90 RMSE\n",
      "train score = 80.39 RMSE\n",
      "test score = 85.40 RMSE\n"
     ]
    }
   ],
   "source": [
    "baseline_testScore = scaler.inverse_transform(np.array([[mean_squared_error(y_test[10:], y_test[:-10])**.5]]))\n",
    "\n",
    "trainScore = scaler.inverse_transform(np.array([[model_unilayer.evaluate(X_train, y_train, verbose=0)**.5]]))\n",
    "testScore = scaler.inverse_transform(np.array([[model_unilayer.evaluate(X_test, y_test, verbose=0)**.5]]))\n",
    "\n",
    "print(\"baseline test score = %.2f RMSE\"%baseline_testScore)\n",
    "print(\"train score = %.2f RMSE\"%trainScore)\n",
    "print(\"test score = %.2f RMSE\"%testScore)"
   ]
  },
  {
   "cell_type": "markdown",
   "metadata": {},
   "source": [
    "The root-mean-square deviation (RMSD) or root-mean-square error (RMSE) is a frequently used\n",
    "measure of the differences between values (sample and population values) predicted by a model or\n",
    "an estimator and the values actually observed. The RMSD represents the sample standard deviation \n",
    "of the differences between \n",
    "predicted values and observed values."
   ]
  },
  {
   "cell_type": "code",
   "execution_count": 15,
   "metadata": {
    "collapsed": false,
    "deletable": true,
    "editable": true
   },
   "outputs": [
    {
     "name": "stdout",
     "output_type": "stream",
     "text": [
      "11062 11062\n"
     ]
    }
   ],
   "source": [
    "sent_lb = 1\n",
    "X_sent, y_sent = rnnDataPrep(sent_dataset, sent_lb)[0], 0.5*(dataframe_merge['First'] + dataframe_merge['Last'])[1:]\n",
    "n = int(ttR * len(X_sent))\n",
    "print(len(X_sent), len(y_sent))\n",
    "X_sent_train, y_sent_train = X_sent[:n], y_sent[:n]\n",
    "X_sent_test, y_sent_test = X_sent[n:], y_sent[n:]\n"
   ]
  },
  {
   "cell_type": "code",
   "execution_count": 17,
   "metadata": {
    "collapsed": false,
    "deletable": true,
    "editable": true
   },
   "outputs": [
    {
     "name": "stderr",
     "output_type": "stream",
     "text": [
      "C:\\ProgramData\\Anaconda3\\envs\\tensorflow\\lib\\site-packages\\ipykernel\\__main__.py:23: UserWarning: The `input_dim` and `input_length` arguments in recurrent layers are deprecated. Use `input_shape` instead.\n",
      "C:\\ProgramData\\Anaconda3\\envs\\tensorflow\\lib\\site-packages\\ipykernel\\__main__.py:23: UserWarning: Update your `LSTM` call to the Keras 2 API: `LSTM(units=4, input_shape=(None, 1))`\n",
      "C:\\ProgramData\\Anaconda3\\envs\\tensorflow\\lib\\site-packages\\ipykernel\\__main__.py:24: UserWarning: Update your `Dense` call to the Keras 2 API: `Dense(units=1)`\n",
      "C:\\ProgramData\\Anaconda3\\envs\\tensorflow\\lib\\site-packages\\keras\\models.py:844: UserWarning: The `nb_epoch` argument in `fit` has been renamed `epochs`.\n",
      "  warnings.warn('The `nb_epoch` argument in `fit` '\n"
     ]
    },
    {
     "name": "stdout",
     "output_type": "stream",
     "text": [
      "Compilation time :  0.0310823917388916\n",
      "Epoch 1/50\n",
      "15s - loss: 230036.0043\n",
      "Epoch 2/50\n",
      "14s - loss: 205850.5706\n",
      "Epoch 3/50\n",
      "14s - loss: 183460.9456\n",
      "Epoch 4/50\n",
      "14s - loss: 162495.4487\n",
      "Epoch 5/50\n",
      "14s - loss: 142974.3481\n",
      "Epoch 6/50\n",
      "14s - loss: 124907.9398\n",
      "Epoch 7/50\n",
      "14s - loss: 108240.5552\n",
      "Epoch 8/50\n",
      "14s - loss: 93043.7582\n",
      "Epoch 9/50\n",
      "14s - loss: 79263.0826\n",
      "Epoch 10/50\n",
      "14s - loss: 66857.4644\n",
      "Epoch 11/50\n",
      "14s - loss: 55864.9964\n",
      "Epoch 12/50\n",
      "14s - loss: 46267.7944\n",
      "Epoch 13/50\n",
      "15s - loss: 38038.1314\n",
      "Epoch 14/50\n",
      "15s - loss: 31146.8979\n",
      "Epoch 15/50\n",
      "14s - loss: 25512.5592\n",
      "Epoch 16/50\n",
      "15s - loss: 21081.4455\n",
      "Epoch 17/50\n",
      "14s - loss: 17692.9523\n",
      "Epoch 18/50\n",
      "14s - loss: 15236.9794\n",
      "Epoch 19/50\n",
      "14s - loss: 13511.3657\n",
      "Epoch 20/50\n",
      "14s - loss: 12347.0255\n",
      "Epoch 21/50\n",
      "14s - loss: 11588.6702\n",
      "Epoch 22/50\n",
      "14s - loss: 11111.8617\n",
      "Epoch 23/50\n",
      "14s - loss: 10808.7382\n",
      "Epoch 24/50\n",
      "14s - loss: 10620.6560\n",
      "Epoch 25/50\n",
      "14s - loss: 10507.0138\n",
      "Epoch 26/50\n",
      "14s - loss: 10437.6460\n",
      "Epoch 27/50\n",
      "14s - loss: 10397.2304\n",
      "Epoch 28/50\n",
      "14s - loss: 10373.0691\n",
      "Epoch 29/50\n",
      "14s - loss: 10358.1796\n",
      "Epoch 30/50\n",
      "14s - loss: 10349.1656\n",
      "Epoch 31/50\n",
      "14s - loss: 10343.9937\n",
      "Epoch 32/50\n",
      "14s - loss: 10341.0567\n",
      "Epoch 33/50\n",
      "14s - loss: 10339.1308\n",
      "Epoch 34/50\n",
      "14s - loss: 10338.0823\n",
      "Epoch 35/50\n",
      "14s - loss: 10337.9220\n",
      "Epoch 36/50\n",
      "14s - loss: 10337.7306\n",
      "Epoch 37/50\n",
      "14s - loss: 10337.5824\n",
      "Epoch 38/50\n",
      "14s - loss: 10337.2457\n",
      "Epoch 39/50\n",
      "14s - loss: 10337.5414\n",
      "Epoch 40/50\n",
      "14s - loss: 10337.8640\n",
      "Epoch 41/50\n",
      "14s - loss: 10337.6534\n",
      "Epoch 42/50\n",
      "14s - loss: 10337.7096\n",
      "Epoch 43/50\n",
      "14s - loss: 10337.8984\n",
      "Epoch 44/50\n",
      "14s - loss: 10337.7662\n",
      "Epoch 45/50\n",
      "14s - loss: 10337.7522\n",
      "Epoch 46/50\n",
      "14s - loss: 10338.0001\n",
      "Epoch 47/50\n",
      "14s - loss: 10337.7009\n",
      "Epoch 48/50\n",
      "14s - loss: 10337.9912\n",
      "Epoch 49/50\n",
      "14s - loss: 10337.8283\n",
      "Epoch 50/50\n",
      "14s - loss: 10337.8095\n"
     ]
    },
    {
     "data": {
      "text/plain": [
       "<keras.callbacks.History at 0x27a22349550>"
      ]
     },
     "execution_count": 17,
     "metadata": {},
     "output_type": "execute_result"
    }
   ],
   "source": [
    "model_sent = build_singlyr_model()\n",
    "model_sent.fit(X_sent_train, y_sent_train,  nb_epoch=50, batch_size=1,verbose=2)"
   ]
  },
  {
   "cell_type": "code",
   "execution_count": 22,
   "metadata": {
    "collapsed": false,
    "deletable": true,
    "editable": true
   },
   "outputs": [
    {
     "name": "stdout",
     "output_type": "stream",
     "text": [
      "baseline test score = 182.53 RMSE\n",
      "train score = 49286.23 RMSE\n",
      "test score = 11014.31 RMSE\n"
     ]
    }
   ],
   "source": [
    "baseline_testScore_sent = sent_scaler.inverse_transform(np.array([[mean_squared_error(y_sent_test[10:], y_sent_test[:-10])**.5]]))\n",
    "\n",
    "trainScore_sent = sent_scaler.inverse_transform(np.array([[model_unilayer.evaluate(X_sent_train, y_sent_train, verbose=0)**.5]]))\n",
    "testScore_sent = sent_scaler.inverse_transform(np.array([[model_unilayer.evaluate(X_sent_test, y_sent_test, verbose=0)**.5]]))\n",
    "\n",
    "print(\"baseline test score = %.2f RMSE\"%baseline_testScore_sent)\n",
    "print(\"train score = %.2f RMSE\"%trainScore_sent)\n",
    "print(\"test score = %.2f RMSE\"%testScore_sent)"
   ]
  },
  {
   "cell_type": "code",
   "execution_count": 23,
   "metadata": {
    "collapsed": true
   },
   "outputs": [],
   "source": [
    "#generate prediction for training\n",
    "y_train_pred = model_unilayer.predict(X_train)\n",
    "y_test_pred = model_unilayer.predict(X_test)\n",
    "\n",
    "y_sent_train_pred = model_sent.predict(X_sent_train)\n",
    "y_sent_test_pred = model_sent.predict(X_sent_test)"
   ]
  },
  {
   "cell_type": "code",
   "execution_count": 25,
   "metadata": {
    "collapsed": false
   },
   "outputs": [
    {
     "data": {
      "image/png": "[encoded data removed]",
      "text/plain": [
       "<matplotlib.figure.Figure at 0x27a2241f860>"
      ]
     },
     "metadata": {},
     "output_type": "display_data"
    }
   ],
   "source": [
    "nn = 1000\n",
    "\n",
    "plt.figure(figsize = (13, 6))\n",
    "\n",
    "\n",
    "plt.plot(dataframe_merge['Time'][3:][-nn:], sent_dataset[3:][-nn:]/20, color='red')\n",
    "\n",
    "plt.plot(dataframe['Time'][3:][-nn:], np.append(y_train, y_test)[-nn:], '-', ms=5, color='blue')\n",
    "\n",
    "plt.plot(dataframe['Time'][3:][n:][-nn:], y_test_pred[-nn:],'-', ms=5, color='green')\n",
    "\n",
    "plt.show()"
   ]
  },
  {
   "cell_type": "code",
   "execution_count": null,
   "metadata": {
    "collapsed": true
   },
   "outputs": [],
   "source": []
  }
 ],
 "metadata": {
  "kernelspec": {
   "display_name": "Python 3",
   "language": "python",
   "name": "python3"
  },
  "language_info": {
   "codemirror_mode": {
    "name": "ipython",
    "version": 3
   },
   "file_extension": ".py",
   "mimetype": "text/x-python",
   "name": "python",
   "nbconvert_exporter": "python",
   "pygments_lexer": "ipython3",
   "version": "3.5.3"
  }
 },
 "nbformat": 4,
 "nbformat_minor": 2
}
